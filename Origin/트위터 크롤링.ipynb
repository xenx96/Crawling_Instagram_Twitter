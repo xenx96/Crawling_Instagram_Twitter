{
 "cells": [
  {
   "cell_type": "code",
   "execution_count": 1,
   "metadata": {},
   "outputs": [],
   "source": [
    "# GetOldTweet3 사용 준비\n",
    "try:\n",
    "    import GetOldTweets3 as got\n",
    "except:\n",
    "    !pip install GetOldTweets3\n",
    "    import GetOldTweets3 as got"
   ]
  },
  {
   "cell_type": "code",
   "execution_count": 2,
   "metadata": {},
   "outputs": [],
   "source": [
    "# BeautifulSoup4 사용 준비\n",
    "try:\n",
    "    from bs4 import BeautifulSoup\n",
    "except:\n",
    "    !pip install bs4\n",
    "    from bs4 import BeautifulSoup"
   ]
  },
  {
   "cell_type": "code",
   "execution_count": 4,
   "metadata": {},
   "outputs": [],
   "source": [
    "'''\n",
    "data.Start_date = 시작 일자\n",
    "data.End_date = 끝나는 일자\n",
    "data.검색명 = 검색어 \n",
    "\n",
    "'''\n"
   ]
  },
  {
   "cell_type": "code",
   "execution_count": 6,
   "metadata": {},
   "outputs": [],
   "source": [
    "import requests\n",
    "def get_bs_obj(url):\n",
    "    result = requests.get(url)\n",
    "    bs_obj = BeautifulSoup(result.content, \"html.parser\")\n",
    "    \n",
    "    return bs_obj\n",
    "\n",
    "\n",
    "\n",
    "def Tweet_C_date(data) :\n",
    "    '''\n",
    "    S_d = Start_date\n",
    "    E_d = End_date\n",
    "    Name = Search for Name or Object\n",
    "    출처 = https://jeongwookie.github.io/2019/06/10/190610-twitter-data-crawling/\n",
    "    \n",
    "    '''\n",
    "    S_d = data.Start_date\n",
    "    E_d = data.End_date\n",
    "    Name = data.검색명\n",
    "    \n",
    "    \n",
    "    import datetime\n",
    "    days_range = []\n",
    "\n",
    "    start = datetime.datetime.strptime(S_d, \"%Y-%m-%d\")\n",
    "    end = datetime.datetime.strptime(E_d, \"%Y-%m-%d\")\n",
    "    date_generated = [start + datetime.timedelta(days=x) for x in range(0, (end-start).days)]\n",
    "\n",
    "    for date in date_generated:\n",
    "        days_range.append(date.strftime(\"%Y-%m-%d\"))\n",
    "\n",
    "    print(\"=== 설정된 트윗 수집 기간은 {} 에서 {} 까지 입니다 ===\".format(days_range[0], days_range[-1]))\n",
    "    print(\"=== 총 {}일 간의 데이터 수집 ===\".format(len(days_range)))\n",
    "    \n",
    "\n",
    "\n",
    "    import time\n",
    "\n",
    "    # 수집 기간 맞추기\n",
    "    start_date = days_range[0]\n",
    "    end_date = (datetime.datetime.strptime(days_range[-1], \"%Y-%m-%d\") \n",
    "                + datetime.timedelta(days=1)).strftime(\"%Y-%m-%d\") # setUntil이 끝을 포함하지 않으므로, day + 1\n",
    "\n",
    "    # 트윗 수집 기준 정의\n",
    "    tweetCriteria = got.manager.TweetCriteria().setQuerySearch(Name)\\\n",
    "                                               .setSince(start_date)\\\n",
    "                                               .setUntil(end_date)\\\n",
    "                                               .setMaxTweets(-1)\n",
    "\n",
    "    # 수집 with GetOldTweet3\n",
    "    print(\"Collecting data start.. from {} to {}\".format(days_range[0], days_range[-1]))\n",
    "    start_time = time.time()\n",
    "\n",
    "    tweet = got.manager.TweetManager.getTweets(tweetCriteria)\n",
    "\n",
    "    print(\"Collecting data end.. {0:0.2f} Minutes\".format((time.time() - start_time)/60))\n",
    "    print(\"=== Total num of tweets is {} ===\".format(len(tweet)))\n",
    "    '''return(tweet)'''\n",
    "    \n",
    "    from random import uniform\n",
    "    from tqdm import tqdm_notebook\n",
    "    import time\n",
    "    # initialize\n",
    "    tweet_list = []\n",
    "\n",
    "    for index in tqdm_notebook(tweet):\n",
    "\n",
    "        # 메타데이터 목록 \n",
    "        username = index.username\n",
    "        link = index.permalink \n",
    "        content = index.text\n",
    "        tweet_date = index.date.strftime(\"%Y-%m-%d\")\n",
    "        tweet_time = index.date.strftime(\"%H:%M:%S\")\n",
    "        retweets = index.retweets\n",
    "        favorites = index.favorites\n",
    "\n",
    "        # === 유저 정보 수집 시작 ===\n",
    "        '''try:\n",
    "            personal_link = 'https://twitter.com/' + username\n",
    "            bs_obj = get_bs_obj(personal_link)\n",
    "            uls = bs_obj.find(\"ul\", {\"class\": \"ProfileNav-list\"}).find_all(\"li\")\n",
    "            div = bs_obj.find(\"div\", {\"class\": \"ProfileHeaderCard-joinDate\"}).find_all(\"span\")[1][\"title\"]\n",
    "\n",
    "\n",
    "            # 가입일, 전체 트윗 수, 팔로잉 수, 팔로워 수\n",
    "            joined_date = div.split('-')[1].strip()\n",
    "            num_tweets = uls[0].find(\"span\", {\"class\": \"ProfileNav-value\"}).text.strip()\n",
    "            num_following = uls[1].find(\"span\", {\"class\": \"ProfileNav-value\"}).text.strip()\n",
    "            num_follower = uls[2].find(\"span\", {\"class\": \"ProfileNav-value\"}).text.strip()\n",
    "        '''\n",
    "        '''except AttributeError:\n",
    "            print(\"=== Attribute error occurs at {} ===\".format(link))\n",
    "            print(\"link : {}\".format(personal_link))   \n",
    "            pass\n",
    "        '''\n",
    "        # 결과 합치기\n",
    "        info_list = [tweet_date, tweet_time, username, content]#, link, retweets, favorites, \n",
    "                     #joined_date, num_tweets, num_following, num_follower]\n",
    "        tweet_list.append(info_list)\n",
    "\n",
    "        # 휴식 \n",
    "        time.sleep(uniform(1,2))\n",
    "\n",
    "    twitter_df = pd.DataFrame(tweet_list, \n",
    "                                  columns = [\"date\", \"time\", \"user_name\", \"text\"])#, \"link\", \"retweet_counts\", \"favorite_counts\",\n",
    "                                            #\"user_created\", \"user_tweets\", \"user_followings\", \"user_followers\"])\n",
    "    twitter_df.to_csv('./'+S_d+data.후보명+\"Tweet.csv\".format(days_range[0], days_range[-1]), index=False)\n",
    "    print(data.후보명+\"=== {} tweets are successfully saved ===\".format(len(tweet_list)))\n",
    "\n"
   ]
  },
  {
   "cell_type": "code",
   "execution_count": 13,
   "metadata": {
    "collapsed": true
   },
   "outputs": [
    {
     "name": "stdout",
     "output_type": "stream",
     "text": [
      "선거명           제 21대 국회의원선거\n",
      "후보명                    이낙연\n",
      "Start_date      2020-04-02\n",
      "End_date        2020-04-14\n",
      "Name: 0, dtype: object\n",
      "=== 설정된 트윗 수집 기간은 2020-04-02 에서 2020-04-13 까지 입니다 ===\n",
      "=== 총 12일 간의 데이터 수집 ===\n",
      "Collecting data start.. from 2020-04-02 to 2020-04-13\n",
      "Collecting data end.. 11.84 Minutes\n",
      "=== Total num of tweets is 7690 ===\n"
     ]
    },
    {
     "name": "stderr",
     "output_type": "stream",
     "text": [
      "C:\\Users\\82105\\Anaconda3\\lib\\site-packages\\ipykernel\\__main__.py:64: TqdmDeprecationWarning: This function will be removed in tqdm==5.0.0\n",
      "Please use `tqdm.notebook.tqdm` instead of `tqdm.tqdm_notebook`\n"
     ]
    },
    {
     "data": {
      "application/vnd.jupyter.widget-view+json": {
       "model_id": "556a2ea94cb5489c8341c4fdbb7c1ab5",
       "version_major": 2,
       "version_minor": 0
      },
      "text/plain": [
       "HBox(children=(FloatProgress(value=0.0, max=7690.0), HTML(value='')))"
      ]
     },
     "metadata": {},
     "output_type": "display_data"
    },
    {
     "name": "stdout",
     "output_type": "stream",
     "text": [
      "\n",
      "이낙연=== 7690 tweets are successfully saved ===\n",
      "선거명           제 21대 국회의원선거\n",
      "후보명                    황교안\n",
      "Start_date      2020-04-02\n",
      "End_date        2020-04-14\n",
      "Name: 1, dtype: object\n",
      "=== 설정된 트윗 수집 기간은 2020-04-02 에서 2020-04-13 까지 입니다 ===\n",
      "=== 총 12일 간의 데이터 수집 ===\n",
      "Collecting data start.. from 2020-04-02 to 2020-04-13\n",
      "An error occured during an HTTP request: <urlopen error [WinError 10060] 연결된 구성원으로부터 응답이 없어 연결하지 못했거나, 호스트로부터 응답이 없어 연결이 끊어졌습니다>\n",
      "Try to open in browser: https://twitter.com/search?q=%ED%99%A9%EA%B5%90%EC%95%88%20since%3A2020-04-02%20until%3A2020-04-14&src=typd\n"
     ]
    },
    {
     "ename": "SystemExit",
     "evalue": "",
     "output_type": "error",
     "traceback": [
      "An exception has occurred, use %tb to see the full traceback.\n",
      "\u001b[1;31mSystemExit\u001b[0m\n"
     ]
    },
    {
     "name": "stderr",
     "output_type": "stream",
     "text": [
      "C:\\Users\\82105\\Anaconda3\\lib\\site-packages\\IPython\\core\\interactiveshell.py:2969: UserWarning: To exit: use 'exit', 'quit', or Ctrl-D.\n",
      "  warn(\"To exit: use 'exit', 'quit', or Ctrl-D.\", stacklevel=1)\n"
     ]
    }
   ],
   "source": [
    "# 원하는 변수 골라서 저장하기\n",
    "for x in range(data.shape[0]) :\n",
    "    print(data.iloc[x])\n",
    "    tweet = Tweet_C_date(data.iloc[x])\n",
    "        "
   ]
  }
 ],
 "metadata": {
  "kernelspec": {
   "display_name": "Python [default]",
   "language": "python",
   "name": "python3"
  },
  "language_info": {
   "codemirror_mode": {
    "name": "ipython",
    "version": 3
   },
   "file_extension": ".py",
   "mimetype": "text/x-python",
   "name": "python",
   "nbconvert_exporter": "python",
   "pygments_lexer": "ipython3",
   "version": "3.5.6"
  }
 },
 "nbformat": 4,
 "nbformat_minor": 2
}
