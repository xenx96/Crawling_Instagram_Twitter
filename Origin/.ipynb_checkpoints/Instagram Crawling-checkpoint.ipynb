{
 "cells": [
  {
   "cell_type": "code",
   "execution_count": 1,
   "metadata": {},
   "outputs": [],
   "source": [
    "from urllib.request import urlopen, Request\n",
    "from urllib.parse import quote_plus\n",
    "from bs4 import BeautifulSoup\n",
    "from selenium import webdriver\n",
    "import time\n",
    "import warnings\n",
    "from tqdm import tqdm\n",
    "from selenium.webdriver.common.keys import Keys\n",
    "import pandas as pd\n",
    "warnings.filterwarnings(action='ignore')"
   ]
  },
  {
   "cell_type": "code",
   "execution_count": 2,
   "metadata": {},
   "outputs": [],
   "source": [
    "import os\n",
    "os.chmod('./chromedriver', 4445)"
   ]
  },
  {
   "cell_type": "code",
   "execution_count": 3,
   "metadata": {},
   "outputs": [],
   "source": [
    "from urllib.request import urlopen # 인터넷 url를 열어주는 패키지\n",
    "from urllib.parse import quote_plus # 한글을 유니코드 형식으로 변환해줌\n",
    "from bs4 import BeautifulSoup \n",
    "from selenium import webdriver # webdriver 가져오기\n",
    "import time # 크롤링 중 시간 대기를 위한 패키지\n",
    "import warnings # 경고메시지 제거 패키지\n",
    "from selenium.webdriver.common.keys import Keys\n",
    "\n",
    "warnings.filterwarnings(action='ignore') # 경고 메세지 제거\n",
    "\n",
    "# 인스타 그램 url 생성\n",
    "baseUrl = \"https://www.instagram.com/explore/tags/\"\n",
    "plusUrl = '언택트'#검색어\n",
    "url = baseUrl + quote_plus(plusUrl)\n",
    "\n",
    "driver = webdriver.Chrome(\n",
    "    executable_path=\"./chromedriver/chromedriver.exe\"\n",
    ")\n",
    "driver.get(url)"
   ]
  },
  {
   "cell_type": "code",
   "execution_count": 4,
   "metadata": {},
   "outputs": [
    {
     "ename": "KeyboardInterrupt",
     "evalue": "",
     "output_type": "error",
     "traceback": [
      "\u001b[1;31m---------------------------------------------------------------------------\u001b[0m",
      "\u001b[1;31mKeyboardInterrupt\u001b[0m                         Traceback (most recent call last)",
      "\u001b[1;32m<ipython-input-4-1d987cb75f1f>\u001b[0m in \u001b[0;36m<module>\u001b[1;34m()\u001b[0m\n\u001b[0;32m     14\u001b[0m     \u001b[0mlast_height\u001b[0m \u001b[1;33m=\u001b[0m \u001b[0mdriver\u001b[0m\u001b[1;33m.\u001b[0m\u001b[0mexecute_script\u001b[0m\u001b[1;33m(\u001b[0m\u001b[1;34m'return document.body.scrollHeight'\u001b[0m\u001b[1;33m)\u001b[0m\u001b[1;33m\u001b[0m\u001b[0m\n\u001b[0;32m     15\u001b[0m     \u001b[0mdriver\u001b[0m\u001b[1;33m.\u001b[0m\u001b[0mexecute_script\u001b[0m\u001b[1;33m(\u001b[0m\u001b[1;34m\"window.scrollTo(0, document.body.scrollHeight);\"\u001b[0m\u001b[1;33m)\u001b[0m\u001b[1;33m\u001b[0m\u001b[0m\n\u001b[1;32m---> 16\u001b[1;33m     \u001b[0mtime\u001b[0m\u001b[1;33m.\u001b[0m\u001b[0msleep\u001b[0m\u001b[1;33m(\u001b[0m\u001b[0mSCROLL_PAUSE_TIME\u001b[0m\u001b[1;33m)\u001b[0m\u001b[1;33m\u001b[0m\u001b[0m\n\u001b[0m\u001b[0;32m     17\u001b[0m     \u001b[0mnew_height\u001b[0m \u001b[1;33m=\u001b[0m \u001b[0mdriver\u001b[0m\u001b[1;33m.\u001b[0m\u001b[0mexecute_script\u001b[0m\u001b[1;33m(\u001b[0m\u001b[1;34m\"return document.body.scrollHeight\"\u001b[0m\u001b[1;33m)\u001b[0m\u001b[1;33m\u001b[0m\u001b[0m\n\u001b[0;32m     18\u001b[0m \u001b[1;33m\u001b[0m\u001b[0m\n",
      "\u001b[1;31mKeyboardInterrupt\u001b[0m: "
     ]
    }
   ],
   "source": [
    "SCROLL_PAUSE_TIME = 1.0\n",
    "reallink = []\n",
    "\n",
    "while True:\n",
    "    pageString = driver.page_source\n",
    "    bsObj = BeautifulSoup(pageString, 'lxml')\n",
    "\n",
    "    for link1 in bsObj.find_all(name='div', attrs={\"class\":\"Nnq7C weEfm\"}):\n",
    "        for i in range(3):\n",
    "            title = link1.select('a')[i]\n",
    "            real = title.attrs['href']\n",
    "            reallink.append(real)\n",
    "\n",
    "    last_height = driver.execute_script('return document.body.scrollHeight')\n",
    "    driver.execute_script(\"window.scrollTo(0, document.body.scrollHeight);\")\n",
    "    time.sleep(SCROLL_PAUSE_TIME)\n",
    "    new_height = driver.execute_script(\"return document.body.scrollHeight\")\n",
    "\n",
    "    if new_height == last_height:\n",
    "        driver.execute_script(\"window.scrollTo(0, document.body.scrollHeight);\")\n",
    "        time.sleep(SCROLL_PAUSE_TIME)\n",
    "        new_height = driver.execute_script(\"return document.body.scrollHeight\")\n",
    "\n",
    "        if new_height == last_height:\n",
    "            break\n",
    "        else:\n",
    "            last_height = new_height\n",
    "            continue"
   ]
  },
  {
   "cell_type": "code",
   "execution_count": null,
   "metadata": {},
   "outputs": [],
   "source": [
    "\n",
    "num_of_data = len(reallink)\n",
    "\n",
    "print('총 {0}개의 데이터를 수집합니다.'.format(num_of_data))\n",
    "csvtext = []\n",
    "\n",
    "for i in tqdm(range(num_of_data)):\n",
    "\n",
    "    csvtext.append([])\n",
    "    req = Request(\"https://www.instagram.com/p\"+reallink[i], headers={'User-Agent': 'Mozila/5.0'})\n",
    "\n",
    "    webpage = urlopen(req).read()\n",
    "    soup = BeautifulSoup(webpage, 'lxml', from_encoding='utf-8')\n",
    "    soup1 = soup.find('meta', attrs={'property':\"og:description\"})\n",
    "\n",
    "    reallink1 = soup1['content']\n",
    "    reallink1 = reallink1[reallink1.find(\"@\") + 1:reallink1.find(\")\")]\n",
    "    reallink1 = reallink1[:20]\n",
    "\n",
    "    if reallink1 == '':\n",
    "        reallink1 = \"Null\"\n",
    "    csvtext[i].append(reallink1)\n",
    "\n",
    "    for reallink2 in soup.find_all('meta', attrs={'property':\"instapp:hashtags\"}):\n",
    "        hashtags = reallink2['content'].rstrip(',')\n",
    "        csvtext[i].append(hashtags)\n",
    "\n",
    "    # csv로 저장\n",
    "\n",
    "    data = pd.DataFrame(csvtext)\n",
    "    data.to_csv('insta.txt', encoding='utf-8')\n",
    "\n",
    "driver.close()"
   ]
  }
 ],
 "metadata": {
  "kernelspec": {
   "display_name": "Python 3",
   "language": "python",
   "name": "python3"
  },
  "language_info": {
   "codemirror_mode": {
    "name": "ipython",
    "version": 3
   },
   "file_extension": ".py",
   "mimetype": "text/x-python",
   "name": "python",
   "nbconvert_exporter": "python",
   "pygments_lexer": "ipython3",
   "version": "3.8.5"
  }
 },
 "nbformat": 4,
 "nbformat_minor": 2
}
